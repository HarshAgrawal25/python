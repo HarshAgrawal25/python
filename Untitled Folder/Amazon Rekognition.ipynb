{
 "cells": [
  {
   "cell_type": "code",
   "execution_count": 25,
   "metadata": {},
   "outputs": [],
   "source": [
    "#pip install opencv-python\n",
    "import cv2"
   ]
  },
  {
   "cell_type": "code",
   "execution_count": 26,
   "metadata": {},
   "outputs": [],
   "source": [
    "cap =cv2.VideoCapture(0)\n",
    "myphoto = \"harsh.jpg\"\n",
    "ret , photo = cap.read()\n",
    "cv2.imwrite(\"harsh.jpg\",photo)\n",
    "cap.release()"
   ]
  },
  {
   "cell_type": "code",
   "execution_count": 27,
   "metadata": {},
   "outputs": [],
   "source": [
    "region = \"ap-south-1\""
   ]
  },
  {
   "cell_type": "code",
   "execution_count": 28,
   "metadata": {},
   "outputs": [],
   "source": [
    "bucket=\"aws-ai-workshop-1\""
   ]
  },
  {
   "cell_type": "code",
   "execution_count": 29,
   "metadata": {},
   "outputs": [],
   "source": [
    "import boto3"
   ]
  },
  {
   "cell_type": "code",
   "execution_count": 30,
   "metadata": {},
   "outputs": [],
   "source": [
    "upimage=\"file.jpg\""
   ]
  },
  {
   "cell_type": "code",
   "execution_count": 31,
   "metadata": {},
   "outputs": [],
   "source": [
    "s3 = boto3.resource(\"s3\")"
   ]
  },
  {
   "cell_type": "code",
   "execution_count": 32,
   "metadata": {},
   "outputs": [],
   "source": [
    "s3.Bucket(bucket).upload_file(myphoto, upimage)"
   ]
  },
  {
   "cell_type": "code",
   "execution_count": 33,
   "metadata": {},
   "outputs": [],
   "source": [
    "rek = boto3.client(\"rekognition\",region)"
   ]
  },
  {
   "cell_type": "code",
   "execution_count": null,
   "metadata": {},
   "outputs": [],
   "source": [
    "response = rek.detect_labels( Image={\n",
    "          'S3Object': {\n",
    "              'Bucket': bucket,\n",
    "              'Name': upimage,\n",
    "          }\n",
    "      },\n",
    "      MaxLabels=10,\n",
    "      MinConfidence=80\n",
    ")"
   ]
  },
  {
   "cell_type": "code",
   "execution_count": null,
   "metadata": {},
   "outputs": [],
   "source": [
    "for i in range(7):\n",
    "    print(response['Labels'][i]['Name'])\n"
   ]
  },
  {
   "cell_type": "code",
   "execution_count": 34,
   "metadata": {},
   "outputs": [
    {
     "data": {
      "text/plain": [
       "{'FaceDetails': [{'BoundingBox': {'Width': 0.28628262877464294,\n",
       "    'Height': 0.5183357000350952,\n",
       "    'Left': 0.46879157423973083,\n",
       "    'Top': 0.41145819425582886},\n",
       "   'AgeRange': {'Low': 23, 'High': 37},\n",
       "   'Smile': {'Value': True, 'Confidence': 97.04974365234375},\n",
       "   'Eyeglasses': {'Value': True, 'Confidence': 99.61197662353516},\n",
       "   'Sunglasses': {'Value': True, 'Confidence': 84.39089965820312},\n",
       "   'Gender': {'Value': 'Male', 'Confidence': 96.88772583007812},\n",
       "   'Beard': {'Value': False, 'Confidence': 78.23051452636719},\n",
       "   'Mustache': {'Value': False, 'Confidence': 97.10176086425781},\n",
       "   'EyesOpen': {'Value': True, 'Confidence': 99.99102020263672},\n",
       "   'MouthOpen': {'Value': True, 'Confidence': 98.98147583007812},\n",
       "   'Emotions': [{'Type': 'HAPPY', 'Confidence': 98.52247619628906},\n",
       "    {'Type': 'SURPRISED', 'Confidence': 0.669131875038147},\n",
       "    {'Type': 'CALM', 'Confidence': 0.23062999546527863},\n",
       "    {'Type': 'DISGUSTED', 'Confidence': 0.20347824692726135},\n",
       "    {'Type': 'CONFUSED', 'Confidence': 0.14764021337032318},\n",
       "    {'Type': 'ANGRY', 'Confidence': 0.13207660615444183},\n",
       "    {'Type': 'FEAR', 'Confidence': 0.07918642461299896},\n",
       "    {'Type': 'SAD', 'Confidence': 0.015380002558231354}],\n",
       "   'Landmarks': [{'Type': 'eyeLeft',\n",
       "     'X': 0.5280926823616028,\n",
       "     'Y': 0.592269241809845},\n",
       "    {'Type': 'eyeRight', 'X': 0.6577315926551819, 'Y': 0.5737617611885071},\n",
       "    {'Type': 'mouthLeft', 'X': 0.5537012815475464, 'Y': 0.7782684564590454},\n",
       "    {'Type': 'mouthRight', 'X': 0.6618703603744507, 'Y': 0.7629929184913635},\n",
       "    {'Type': 'nose', 'X': 0.5939939022064209, 'Y': 0.6680036783218384},\n",
       "    {'Type': 'leftEyeBrowLeft',\n",
       "     'X': 0.4785970151424408,\n",
       "     'Y': 0.5618313550949097},\n",
       "    {'Type': 'leftEyeBrowRight',\n",
       "     'X': 0.5109409689903259,\n",
       "     'Y': 0.5262728333473206},\n",
       "    {'Type': 'leftEyeBrowUp', 'X': 0.5480726361274719, 'Y': 0.527872622013092},\n",
       "    {'Type': 'rightEyeBrowLeft',\n",
       "     'X': 0.6224370002746582,\n",
       "     'Y': 0.5170444846153259},\n",
       "    {'Type': 'rightEyeBrowRight',\n",
       "     'X': 0.6605300307273865,\n",
       "     'Y': 0.5045913457870483},\n",
       "    {'Type': 'rightEyeBrowUp',\n",
       "     'X': 0.7036510705947876,\n",
       "     'Y': 0.5293270945549011},\n",
       "    {'Type': 'leftEyeLeft', 'X': 0.5057318806648254, 'Y': 0.5967842936515808},\n",
       "    {'Type': 'leftEyeRight', 'X': 0.5537705421447754, 'Y': 0.5906065106391907},\n",
       "    {'Type': 'leftEyeUp', 'X': 0.5265020728111267, 'Y': 0.5821794867515564},\n",
       "    {'Type': 'leftEyeDown', 'X': 0.5292229652404785, 'Y': 0.6005336046218872},\n",
       "    {'Type': 'rightEyeLeft', 'X': 0.6320525407791138, 'Y': 0.5793796181678772},\n",
       "    {'Type': 'rightEyeRight',\n",
       "     'X': 0.6812779307365417,\n",
       "     'Y': 0.5716717839241028},\n",
       "    {'Type': 'rightEyeUp', 'X': 0.6566572785377502, 'Y': 0.5635220408439636},\n",
       "    {'Type': 'rightEyeDown', 'X': 0.6575319766998291, 'Y': 0.582190752029419},\n",
       "    {'Type': 'noseLeft', 'X': 0.5751405358314514, 'Y': 0.7013388276100159},\n",
       "    {'Type': 'noseRight', 'X': 0.6230871677398682, 'Y': 0.6944835186004639},\n",
       "    {'Type': 'mouthUp', 'X': 0.6021174192428589, 'Y': 0.7409159541130066},\n",
       "    {'Type': 'mouthDown', 'X': 0.6075317859649658, 'Y': 0.7996726632118225},\n",
       "    {'Type': 'leftPupil', 'X': 0.5280926823616028, 'Y': 0.592269241809845},\n",
       "    {'Type': 'rightPupil', 'X': 0.6577315926551819, 'Y': 0.5737617611885071},\n",
       "    {'Type': 'upperJawlineLeft',\n",
       "     'X': 0.46167856454849243,\n",
       "     'Y': 0.6306471228599548},\n",
       "    {'Type': 'midJawlineLeft',\n",
       "     'X': 0.5032815337181091,\n",
       "     'Y': 0.8254252672195435},\n",
       "    {'Type': 'chinBottom', 'X': 0.6182920336723328, 'Y': 0.9028695225715637},\n",
       "    {'Type': 'midJawlineRight',\n",
       "     'X': 0.7323697805404663,\n",
       "     'Y': 0.7924772500991821},\n",
       "    {'Type': 'upperJawlineRight',\n",
       "     'X': 0.7441097497940063,\n",
       "     'Y': 0.5897054076194763}],\n",
       "   'Pose': {'Roll': -7.313676357269287,\n",
       "    'Yaw': -2.284750461578369,\n",
       "    'Pitch': 12.27375602722168},\n",
       "   'Quality': {'Brightness': 37.1101188659668, 'Sharpness': 78.64350128173828},\n",
       "   'Confidence': 99.99584197998047}],\n",
       " 'ResponseMetadata': {'RequestId': '5274a28f-c5ce-4ed7-97c7-e8c6f89a1f78',\n",
       "  'HTTPStatusCode': 200,\n",
       "  'HTTPHeaders': {'content-type': 'application/x-amz-json-1.1',\n",
       "   'date': 'Sun, 04 Apr 2021 10:51:40 GMT',\n",
       "   'x-amzn-requestid': '5274a28f-c5ce-4ed7-97c7-e8c6f89a1f78',\n",
       "   'content-length': '3333',\n",
       "   'connection': 'keep-alive'},\n",
       "  'RetryAttempts': 0}}"
      ]
     },
     "execution_count": 34,
     "metadata": {},
     "output_type": "execute_result"
    }
   ],
   "source": [
    "rek.detect_faces(\n",
    "    \n",
    "  Image={\n",
    "          'S3Object': {\n",
    "              'Bucket': bucket,\n",
    "              'Name': upimage,\n",
    "          }\n",
    "      },\n",
    "    Attributes=['ALL']\n",
    ")"
   ]
  },
  {
   "cell_type": "code",
   "execution_count": null,
   "metadata": {},
   "outputs": [],
   "source": []
  }
 ],
 "metadata": {
  "kernelspec": {
   "display_name": "Python 3",
   "language": "python",
   "name": "python3"
  },
  "language_info": {
   "codemirror_mode": {
    "name": "ipython",
    "version": 3
   },
   "file_extension": ".py",
   "mimetype": "text/x-python",
   "name": "python",
   "nbconvert_exporter": "python",
   "pygments_lexer": "ipython3",
   "version": "3.8.3"
  }
 },
 "nbformat": 4,
 "nbformat_minor": 4
}
