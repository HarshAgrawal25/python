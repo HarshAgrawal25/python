{
 "cells": [
  {
   "cell_type": "markdown",
   "metadata": {},
   "source": [
    "# *  * \n",
    "# *  *"
   ]
  },
  {
   "cell_type": "code",
   "execution_count": 10,
   "metadata": {},
   "outputs": [
    {
     "name": "stdout",
     "output_type": "stream",
     "text": [
      "5\n",
      "* * * * * \n",
      "* * * * * \n",
      "* * * * * \n",
      "* * * * * \n",
      "* * * * * \n"
     ]
    }
   ],
   "source": [
    "n = int(input())\n",
    "i=1\n",
    "while(i<=n):\n",
    "    j=1\n",
    "    while(j<=n):\n",
    "        print(\"*\",end=' ')\n",
    "        j=j+1\n",
    "    print()\n",
    "    i=i+1"
   ]
  },
  {
   "cell_type": "markdown",
   "metadata": {},
   "source": [
    "# Square pattern"
   ]
  },
  {
   "cell_type": "code",
   "execution_count": 13,
   "metadata": {},
   "outputs": [
    {
     "name": "stdout",
     "output_type": "stream",
     "text": [
      "6\n",
      "1 2 3 4 5 6  \n",
      "1 2 3 4 5 6  \n",
      "1 2 3 4 5 6  \n",
      "1 2 3 4 5 6  \n",
      "1 2 3 4 5 6  \n",
      "1 2 3 4 5 6  \n"
     ]
    }
   ],
   "source": [
    "n = int(input())\n",
    "i = 1\n",
    "while(i <= n):\n",
    "    j = 1\n",
    "    while(j <= n):\n",
    "        print(j, end=\" \")\n",
    "        j=j+1\n",
    "    print(\" \")\n",
    "    i=i+1"
   ]
  },
  {
   "cell_type": "code",
   "execution_count": 21,
   "metadata": {},
   "outputs": [
    {
     "name": "stdout",
     "output_type": "stream",
     "text": [
      "5\n",
      "1 1 1 1 1  \n",
      "2 2 2 2 2  \n",
      "3 3 3 3 3  \n",
      "4 4 4 4 4  \n",
      "5 5 5 5 5  \n"
     ]
    }
   ],
   "source": [
    "n = int(input())\n",
    "i = 1\n",
    "while(i <= n):\n",
    "    j = 1\n",
    "    while(j <= n):\n",
    "        print(i, end=\" \")\n",
    "        j=j+1\n",
    "        \n",
    "    print(\" \")\n",
    "    i=i+1"
   ]
  },
  {
   "cell_type": "code",
   "execution_count": 23,
   "metadata": {},
   "outputs": [
    {
     "name": "stdout",
     "output_type": "stream",
     "text": [
      "5\n",
      "5 4 3 2 1  \n",
      "5 4 3 2 1  \n",
      "5 4 3 2 1  \n",
      "5 4 3 2 1  \n",
      "5 4 3 2 1  \n"
     ]
    }
   ],
   "source": [
    "n = int(input())\n",
    "i = 1\n",
    "while(i <= n):\n",
    "    j = 1\n",
    "    while(j <= n):\n",
    "        print(n-j+1, end=\" \")\n",
    "        j=j+1\n",
    "        \n",
    "    print(\" \")\n",
    "    i=i+1\n",
    "    "
   ]
  },
  {
   "cell_type": "code",
   "execution_count": 27,
   "metadata": {},
   "outputs": [
    {
     "ename": "TypeError",
     "evalue": "int() argument must be a string, a bytes-like object or a number, not 'method'",
     "output_type": "error",
     "traceback": [
      "\u001b[1;31m---------------------------------------------------------------------------\u001b[0m",
      "\u001b[1;31mTypeError\u001b[0m                                 Traceback (most recent call last)",
      "\u001b[1;32m<ipython-input-27-960049a51505>\u001b[0m in \u001b[0;36m<module>\u001b[1;34m\u001b[0m\n\u001b[1;32m----> 1\u001b[1;33m \u001b[0mn\u001b[0m \u001b[1;33m=\u001b[0m \u001b[0mint\u001b[0m\u001b[1;33m(\u001b[0m\u001b[0minput\u001b[0m\u001b[1;33m)\u001b[0m\u001b[1;33m\u001b[0m\u001b[1;33m\u001b[0m\u001b[0m\n\u001b[0m\u001b[0;32m      2\u001b[0m \u001b[1;32mif\u001b[0m\u001b[1;33m(\u001b[0m\u001b[0mn\u001b[0m \u001b[1;33m<=\u001b[0m \u001b[1;36m50\u001b[0m\u001b[1;33m)\u001b[0m\u001b[1;33m:\u001b[0m\u001b[1;33m\u001b[0m\u001b[1;33m\u001b[0m\u001b[0m\n\u001b[0;32m      3\u001b[0m     \u001b[0mi\u001b[0m \u001b[1;33m=\u001b[0m \u001b[1;36m1\u001b[0m\u001b[1;33m\u001b[0m\u001b[1;33m\u001b[0m\u001b[0m\n\u001b[0;32m      4\u001b[0m     \u001b[1;32mwhile\u001b[0m\u001b[1;33m(\u001b[0m\u001b[0mi\u001b[0m \u001b[1;33m<=\u001b[0m\u001b[0mn\u001b[0m\u001b[1;33m)\u001b[0m\u001b[1;33m:\u001b[0m\u001b[1;33m\u001b[0m\u001b[1;33m\u001b[0m\u001b[0m\n\u001b[0;32m      5\u001b[0m         \u001b[0mj\u001b[0m\u001b[1;33m=\u001b[0m\u001b[1;36m1\u001b[0m\u001b[1;33m\u001b[0m\u001b[1;33m\u001b[0m\u001b[0m\n",
      "\u001b[1;31mTypeError\u001b[0m: int() argument must be a string, a bytes-like object or a number, not 'method'"
     ]
    }
   ],
   "source": [
    "n = int\n",
    "if(n <= 50):\n",
    "    i = 1\n",
    "    while(i <=n):\n",
    "        j=1\n",
    "        while(j <= n):\n",
    "            print(n,end=\"\")\n",
    "            j =j+1\n",
    "        print(\"\")\n",
    "    i=i+1"
   ]
  },
  {
   "cell_type": "code",
   "execution_count": 31,
   "metadata": {},
   "outputs": [
    {
     "name": "stdout",
     "output_type": "stream",
     "text": [
      "6\n",
      "666666 \n",
      "666666 \n",
      "666666 \n",
      "666666 \n",
      "666666 \n",
      "666666 \n"
     ]
    }
   ],
   "source": [
    "n = int(input())\n",
    "if(n <= 50):\n",
    "    i = 1\n",
    "    while(i <=n):\n",
    "        j=1\n",
    "        while(j <= n):\n",
    "            print(n,end=\"\")\n",
    "            j=j+1\n",
    "        print(\" \")\n",
    "        i=i+1"
   ]
  },
  {
   "cell_type": "markdown",
   "metadata": {},
   "source": [
    "# Triangular pattern"
   ]
  },
  {
   "cell_type": "code",
   "execution_count": 1,
   "metadata": {},
   "outputs": [
    {
     "name": "stdout",
     "output_type": "stream",
     "text": [
      "5\n",
      "1  \n",
      "2 2  \n",
      "3 3 3  \n",
      "4 4 4 4  \n",
      "5 5 5 5 5  \n"
     ]
    }
   ],
   "source": [
    "\n",
    "n = int(input())\n",
    "i=1\n",
    "while(i<=n):\n",
    "    j=1\n",
    "    while(j<=i):\n",
    "        print(i,end=\" \")\n",
    "        j=j+1\n",
    "    print(\" \")\n",
    "    i=i+1"
   ]
  },
  {
   "cell_type": "code",
   "execution_count": 3,
   "metadata": {},
   "outputs": [
    {
     "name": "stdout",
     "output_type": "stream",
     "text": [
      "5\n",
      "1  \n",
      "2 3  \n",
      "3 4 5  \n",
      "4 5 6 7  \n",
      "5 6 7 8 9  \n"
     ]
    }
   ],
   "source": [
    "\n",
    "n = int(input())\n",
    "i=1\n",
    "while(i<=n):\n",
    "    j=1\n",
    "    k=i\n",
    "    while(j<=i):\n",
    "        \n",
    "        print(k,end=\" \")\n",
    "        k=k+1\n",
    "        j=j+1\n",
    "    print(\" \")\n",
    "    i=i+1"
   ]
  },
  {
   "cell_type": "code",
   "execution_count": 4,
   "metadata": {},
   "outputs": [
    {
     "name": "stdout",
     "output_type": "stream",
     "text": [
      "4\n",
      "1  \n",
      "2 3  \n",
      "4 5 6  \n",
      "7 8 9 10  \n"
     ]
    }
   ],
   "source": [
    "\n",
    "n = int(input())\n",
    "i=1\n",
    "p=1\n",
    "while(i<=n):\n",
    "    j=1\n",
    "    \n",
    "    while(j<=i):\n",
    "        \n",
    "        print(p,end=\" \")\n",
    "        p=p+1\n",
    "        j=j+1\n",
    "    print(\" \")\n",
    "    i=i+1"
   ]
  },
  {
   "cell_type": "code",
   "execution_count": 6,
   "metadata": {},
   "outputs": [
    {
     "name": "stdout",
     "output_type": "stream",
     "text": [
      "9\n",
      "*  \n",
      "* *  \n",
      "* * *  \n",
      "* * * *  \n",
      "* * * * *  \n",
      "* * * * * *  \n",
      "* * * * * * *  \n",
      "* * * * * * * *  \n",
      "* * * * * * * * *  \n"
     ]
    }
   ],
   "source": [
    "n = int(input())\n",
    "i=1\n",
    "while(i<=n):\n",
    "    j=1\n",
    "    \n",
    "    while(j<=i):\n",
    "        \n",
    "        print(\"*\",end=\" \")\n",
    "       \n",
    "        j=j+1\n",
    "    print(\" \")\n",
    "    i=i+1"
   ]
  },
  {
   "cell_type": "code",
   "execution_count": 7,
   "metadata": {},
   "outputs": [
    {
     "name": "stdout",
     "output_type": "stream",
     "text": [
      "5\n",
      "1  \n",
      "2 2  \n",
      "3 3 3  \n",
      "4 4 4 4  \n",
      "5 5 5 5 5  \n"
     ]
    }
   ],
   "source": [
    "n = int(input())\n",
    "i = 1\n",
    "while(i<= n):\n",
    "    j=1\n",
    "    while(j<=i):\n",
    "        print(i,end=\" \")\n",
    "        j=j+1\n",
    "    print(\" \")\n",
    "    i=i+1"
   ]
  },
  {
   "cell_type": "code",
   "execution_count": 9,
   "metadata": {},
   "outputs": [
    {
     "name": "stdout",
     "output_type": "stream",
     "text": [
      "6\n",
      "1  \n",
      "2 1  \n",
      "3 2 1  \n",
      "4 3 2 1  \n",
      "5 4 3 2 1  \n",
      "6 5 4 3 2 1  \n"
     ]
    }
   ],
   "source": [
    "n = int(input())\n",
    "i = 1\n",
    "while(i<= n):\n",
    "    j=1\n",
    "    p=i\n",
    "    while(j<=i):\n",
    "        print(p,end=\" \")\n",
    "        p=p-1\n",
    "        j=j+1\n",
    "    print(\" \")\n",
    "    i=i+1"
   ]
  },
  {
   "cell_type": "code",
   "execution_count": 10,
   "metadata": {},
   "outputs": [
    {
     "data": {
      "text/plain": [
       "'D'"
      ]
     },
     "execution_count": 10,
     "metadata": {},
     "output_type": "execute_result"
    }
   ],
   "source": [
    "ord('A')\n",
    "chr(68)"
   ]
  },
  {
   "cell_type": "markdown",
   "metadata": {},
   "source": [
    "# Converting input to char"
   ]
  },
  {
   "cell_type": "code",
   "execution_count": 15,
   "metadata": {},
   "outputs": [
    {
     "name": "stdout",
     "output_type": "stream",
     "text": [
      "26\n",
      "Z\n"
     ]
    }
   ],
   "source": [
    "x = int(input())\n",
    "ascii = ord('A')\n",
    "output = ascii+x-1\n",
    "o= chr(output)\n",
    "print(o)"
   ]
  },
  {
   "cell_type": "code",
   "execution_count": 24,
   "metadata": {},
   "outputs": [
    {
     "name": "stdout",
     "output_type": "stream",
     "text": [
      "5\n",
      "A B C D E  \n",
      "A B C D E  \n",
      "A B C D E  \n",
      "A B C D E  \n",
      "A B C D E  \n"
     ]
    }
   ],
   "source": [
    "n = int(input())\n",
    "i = 1\n",
    "while(i <= n):\n",
    "    j = 1\n",
    "    while(j <= n):\n",
    "       \n",
    "        \n",
    "        print( chr(ord('A')+j-1), end=\" \")\n",
    "        j=j+1\n",
    "        \n",
    "    print(\" \")\n",
    "    i=i+1"
   ]
  },
  {
   "cell_type": "code",
   "execution_count": 40,
   "metadata": {},
   "outputs": [
    {
     "name": "stdout",
     "output_type": "stream",
     "text": [
      "5\n",
      "A  \n",
      "B C  \n",
      "C D E  \n",
      "D E F G  \n",
      "E F G H I  \n"
     ]
    }
   ],
   "source": [
    "n = int(input())\n",
    "i = 1\n",
    "\n",
    "while(i <= n):\n",
    "    j = 1\n",
    "    startchar = chr(ord('A')+i-1)\n",
    "    while(j <= n):\n",
    "       \n",
    "        \n",
    "        print( chr(ord(startchar)+j-1), end=\" \")\n",
    "        j=j+1\n",
    "        \n",
    "    print(\" \")\n",
    "    i=i+1"
   ]
  },
  {
   "cell_type": "code",
   "execution_count": 38,
   "metadata": {},
   "outputs": [
    {
     "name": "stdout",
     "output_type": "stream",
     "text": [
      "7\n",
      "A  \n",
      "B B  \n",
      "C C C  \n",
      "D D D D  \n",
      "E E E E E  \n",
      "F F F F F F  \n",
      "G G G G G G G  \n"
     ]
    }
   ],
   "source": [
    "n = int(input())\n",
    "i = 1\n",
    "\n",
    "while(i <= n):\n",
    "    j = 1\n",
    "    startchar = chr(ord('A')+i-1)\n",
    "    while(j <= i): \n",
    "        print( chr(ord(startchar)), end=\" \")\n",
    "        j=j+1\n",
    "        \n",
    "    print(\" \")\n",
    "    i=i+1"
   ]
  },
  {
   "cell_type": "code",
   "execution_count": 41,
   "metadata": {},
   "outputs": [
    {
     "name": "stdout",
     "output_type": "stream",
     "text": [
      "6\n",
      "A  \n",
      "B C  \n",
      "C D E  \n",
      "D E F G  \n",
      "E F G H I  \n",
      "F G H I J K  \n"
     ]
    }
   ],
   "source": [
    "n = int(input())\n",
    "i = 1\n",
    "\n",
    "while(i <= n):\n",
    "    j = 1\n",
    "    startchar = chr(ord('A')+i-1)\n",
    "    while(j <= i):\n",
    "       \n",
    "        \n",
    "        print( chr(ord(startchar)+j-1), end=\" \")\n",
    "        j=j+1\n",
    "        \n",
    "    print(\" \")\n",
    "    i=i+1"
   ]
  },
  {
   "cell_type": "code",
   "execution_count": 14,
   "metadata": {},
   "outputs": [
    {
     "name": "stdout",
     "output_type": "stream",
     "text": [
      "7\n",
      "G  \n",
      "F G  \n",
      "E F G  \n",
      "D E F G  \n",
      "C D E F G  \n",
      "B C D E F G  \n",
      "A B C D E F G  \n"
     ]
    }
   ],
   "source": [
    "n = int(input())\n",
    "i = 1\n",
    "q = n\n",
    "while(i <= q):\n",
    "    j = 1\n",
    "    startchar = chr(ord('A')+n-1)\n",
    "    while(j <= i):\n",
    "       \n",
    "        \n",
    "        print( chr(ord(startchar)+j-1), end=\" \")\n",
    "        j=j+1\n",
    "        \n",
    "    print(\" \")\n",
    "    i=i+1\n",
    "    n =n-1\n",
    "    "
   ]
  },
  {
   "cell_type": "markdown",
   "metadata": {},
   "source": [
    "# Inverted pattern"
   ]
  },
  {
   "cell_type": "code",
   "execution_count": 19,
   "metadata": {},
   "outputs": [
    {
     "name": "stdout",
     "output_type": "stream",
     "text": [
      "9\n",
      "* * * * * * * * * \n",
      "* * * * * * * * \n",
      "* * * * * * * \n",
      "* * * * * * \n",
      "* * * * * \n",
      "* * * * \n",
      "* * * \n",
      "* * \n",
      "* \n"
     ]
    }
   ],
   "source": [
    "n = int(input())\n",
    "i =1\n",
    "while( i <=n):\n",
    "    j=1\n",
    "    while(j<=n-i+1):\n",
    "        print(\"*\",end=\" \")\n",
    "        j=j+1\n",
    "    print(\"\")\n",
    "    i=i+1"
   ]
  },
  {
   "cell_type": "code",
   "execution_count": 23,
   "metadata": {},
   "outputs": [
    {
     "name": "stdout",
     "output_type": "stream",
     "text": [
      "6\n",
      "6 6 6 6 6 6 \n",
      "5 5 5 5 5 \n",
      "4 4 4 4 \n",
      "3 3 3 \n",
      "2 2 \n",
      "1 \n"
     ]
    }
   ],
   "source": [
    "n = int(input())\n",
    "i =1\n",
    "q = n\n",
    "while( i <= q):\n",
    "    j=1\n",
    "    while(j<=q-i+1):\n",
    "        print(n,end=\" \")\n",
    "        j=j+1\n",
    "    print(\"\")\n",
    "    i=i+1\n",
    "    n=n-1"
   ]
  },
  {
   "cell_type": "markdown",
   "metadata": {},
   "source": [
    "# reverse pattern"
   ]
  },
  {
   "cell_type": "code",
   "execution_count": 29,
   "metadata": {},
   "outputs": [
    {
     "name": "stdout",
     "output_type": "stream",
     "text": [
      "8\n",
      "              * \n",
      "            * * \n",
      "          * * * \n",
      "        * * * * \n",
      "      * * * * * \n",
      "    * * * * * * \n",
      "  * * * * * * * \n",
      "* * * * * * * * \n"
     ]
    }
   ],
   "source": [
    "n = int(input())\n",
    "i =1\n",
    "while(i <= n):\n",
    "    \n",
    "    spaces = 1\n",
    "    while( spaces <= n-i):\n",
    "        print(' ',end=\" \")\n",
    "        spaces= spaces+1\n",
    "        \n",
    "    stars = 1\n",
    "    while( stars <= i):\n",
    "        print(\"*\",end=\" \")\n",
    "        stars =stars +1\n",
    "    print()    \n",
    "    i=i+ 1  "
   ]
  },
  {
   "cell_type": "code",
   "execution_count": 43,
   "metadata": {},
   "outputs": [
    {
     "name": "stdout",
     "output_type": "stream",
     "text": [
      "5\n",
      "        1 \n",
      "      1 2 \n",
      "    1 2 3 \n",
      "  1 2 3 4 \n",
      "1 2 3 4 5 \n"
     ]
    }
   ],
   "source": [
    "n =int(input())\n",
    "i=1\n",
    "while(i<=n):\n",
    "    spaces =1\n",
    "    while(spaces <= n-i):\n",
    "        print(' ',end=\" \")\n",
    "        spaces =spaces+1\n",
    "    num =1\n",
    "    p=1\n",
    "    while(num <= i):\n",
    "        print(p,end=\" \")\n",
    "        p=p+1\n",
    "        num = num +1\n",
    "    print()\n",
    "    i=i+1"
   ]
  },
  {
   "cell_type": "markdown",
   "metadata": {},
   "source": [
    "# Isoceles triangle"
   ]
  },
  {
   "cell_type": "code",
   "execution_count": 11,
   "metadata": {},
   "outputs": [
    {
     "name": "stdout",
     "output_type": "stream",
     "text": [
      "7\n",
      "            1 \n",
      "          1 2 1 \n",
      "        1 2 3 2 1 \n",
      "      1 2 3 4 3 2 1 \n",
      "    1 2 3 4 5 4 3 2 1 \n",
      "  1 2 3 4 5 6 5 4 3 2 1 \n",
      "1 2 3 4 5 6 7 6 5 4 3 2 1 \n"
     ]
    }
   ],
   "source": [
    "n =int(input())\n",
    "i=1\n",
    "while(i<=n):\n",
    "    spaces =1\n",
    "    while(spaces <= n-i):\n",
    "        print(' ',end=\" \")\n",
    "        spaces =spaces+1\n",
    "    num =1\n",
    "    p=1\n",
    "    while(num <= i):\n",
    "        print(p,end=\" \")\n",
    "        p=p+1\n",
    "        num = num +1\n",
    "        \n",
    "    p = i-1\n",
    "    while( p >= 1):\n",
    "        print(p,end=\" \")\n",
    "        p=p-1\n",
    "    print()\n",
    "    i=i+1"
   ]
  },
  {
   "cell_type": "code",
   "execution_count": 19,
   "metadata": {},
   "outputs": [
    {
     "name": "stdout",
     "output_type": "stream",
     "text": [
      "20\n",
      "                                      *  \n",
      "                                    * * *  \n",
      "                                  * * * * *  \n",
      "                                * * * * * * *  \n",
      "                              * * * * * * * * *  \n",
      "                            * * * * * * * * * * *  \n",
      "                          * * * * * * * * * * * * *  \n",
      "                        * * * * * * * * * * * * * * *  \n",
      "                      * * * * * * * * * * * * * * * * *  \n",
      "                    * * * * * * * * * * * * * * * * * * *  \n",
      "                  * * * * * * * * * * * * * * * * * * * * *  \n",
      "                * * * * * * * * * * * * * * * * * * * * * * *  \n",
      "              * * * * * * * * * * * * * * * * * * * * * * * * *  \n",
      "            * * * * * * * * * * * * * * * * * * * * * * * * * * *  \n",
      "          * * * * * * * * * * * * * * * * * * * * * * * * * * * * *  \n",
      "        * * * * * * * * * * * * * * * * * * * * * * * * * * * * * * *  \n",
      "      * * * * * * * * * * * * * * * * * * * * * * * * * * * * * * * * *  \n",
      "    * * * * * * * * * * * * * * * * * * * * * * * * * * * * * * * * * * *  \n",
      "  * * * * * * * * * * * * * * * * * * * * * * * * * * * * * * * * * * * * *  \n",
      "* * * * * * * * * * * * * * * * * * * * * * * * * * * * * * * * * * * * * * *  \n"
     ]
    }
   ],
   "source": [
    "n = int(input())\n",
    "i=1\n",
    "while(i<=n):\n",
    "    spaces=1\n",
    "    while(spaces <= n-i):\n",
    "        print(\" \",end=\" \")\n",
    "        spaces=spaces+1\n",
    "    j=1\n",
    "    while(j<=i):\n",
    "        print(\"*\",end=\" \")\n",
    "        j=j+1\n",
    "        \n",
    "    k=i-1\n",
    "    while(k >=1):\n",
    "        print(\"*\",end=\" \")\n",
    "        k=k-1\n",
    "    print(\" \")\n",
    "    i=i+1"
   ]
  },
  {
   "cell_type": "code",
   "execution_count": 38,
   "metadata": {},
   "outputs": [
    {
     "name": "stdout",
     "output_type": "stream",
     "text": [
      "6\n",
      "          1 \n",
      "        2 3 2 \n",
      "      3 4 5 4 3 \n",
      "    4 5 6 7 6 5 4 \n",
      "  5 6 7 8 9 8 7 6 5 \n",
      "6 7 8 9 10 11 10 9 8 7 6 \n"
     ]
    }
   ],
   "source": [
    "n =int(input())\n",
    "i=1\n",
    "while(i<=n):\n",
    "    spaces =1\n",
    "    while(spaces <= n-i):\n",
    "        print(' ',end=\" \")\n",
    "        spaces =spaces+1\n",
    "    num =1\n",
    "    p=i\n",
    "    while(num <= i):\n",
    "        print(p,end=\" \")\n",
    "        p=p+1\n",
    "        num = num +1\n",
    "        \n",
    "    k = (i-1)*2\n",
    "    p =i-1\n",
    "    while( p >= 1):\n",
    "        print(k,end=\" \")\n",
    "        p=p-1\n",
    "        k=k-1\n",
    "    print()\n",
    "    i=i+1"
   ]
  },
  {
   "cell_type": "code",
   "execution_count": 28,
   "metadata": {},
   "outputs": [
    {
     "name": "stdout",
     "output_type": "stream",
     "text": [
      "4\n",
      "      * \n",
      "    * * \n",
      "  * * * \n",
      "* * * * \n"
     ]
    }
   ],
   "source": [
    "\n",
    "n = int(input())\n",
    "i = 1\n",
    "while(i<=n):\n",
    "    spaces = 1\n",
    "   \n",
    "    while(spaces <= n-i):\n",
    "        print(' ',end=\" \")\n",
    "        spaces =spaces+1\n",
    "    num =1\n",
    "    j=1\n",
    "    while(j<=i):\n",
    "        print(\"*\",end=\" \")\n",
    "        j=j+1\n",
    "    print(\"\")\n",
    "    i=i+1\n",
    "    "
   ]
  },
  {
   "cell_type": "code",
   "execution_count": 30,
   "metadata": {},
   "outputs": [
    {
     "data": {
      "text/plain": [
       "4"
      ]
     },
     "execution_count": 30,
     "metadata": {},
     "output_type": "execute_result"
    }
   ],
   "source": []
  },
  {
   "cell_type": "code",
   "execution_count": null,
   "metadata": {},
   "outputs": [],
   "source": []
  }
 ],
 "metadata": {
  "kernelspec": {
   "display_name": "Python 3",
   "language": "python",
   "name": "python3"
  },
  "language_info": {
   "codemirror_mode": {
    "name": "ipython",
    "version": 3
   },
   "file_extension": ".py",
   "mimetype": "text/x-python",
   "name": "python",
   "nbconvert_exporter": "python",
   "pygments_lexer": "ipython3",
   "version": "3.8.3"
  }
 },
 "nbformat": 4,
 "nbformat_minor": 4
}
